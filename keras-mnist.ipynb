{
 "cells": [
  {
   "cell_type": "raw",
   "id": "9b41f20f",
   "metadata": {
    "_cell_guid": "b1076dfc-b9ad-4769-8c92-a6c4dae69d19",
    "_uuid": "8f2839f25d086af736a60e9eeb907d3b93b6e0e5",
    "papermill": {
     "duration": 0.011657,
     "end_time": "2024-05-01T02:39:14.960814",
     "exception": false,
     "start_time": "2024-05-01T02:39:14.949157",
     "status": "completed"
    },
    "tags": []
   },
   "source": [
    "# This Python 3 environment comes with many helpful analytics libraries installed\n",
    "# It is defined by the kaggle/python Docker image: https://github.com/kaggle/docker-python\n",
    "# For example, here's several helpful packages to load\n",
    "\n",
    "import numpy as np # linear algebra\n",
    "import pandas as pd # data processing, CSV file I/O (e.g. pd.read_csv)\n",
    "\n",
    "# Input data files are available in the read-only \"../input/\" directory\n",
    "# For example, running this (by clicking run or pressing Shift+Enter) will list all files under the input directory\n",
    "\n",
    "import os\n",
    "for dirname, _, filenames in os.walk('/kaggle/input'):\n",
    "    for filename in filenames:\n",
    "        print(os.path.join(dirname, filename))\n",
    "\n",
    "# You can write up to 20GB to the current directory (/kaggle/working/) that gets preserved as output when you create a version using \"Save & Run All\" \n",
    "# You can also write temporary files to /kaggle/temp/, but they won't be saved outside of the current session"
   ]
  },
  {
   "cell_type": "code",
   "execution_count": 1,
   "id": "9d06af9a",
   "metadata": {
    "execution": {
     "iopub.execute_input": "2024-05-01T02:39:14.985323Z",
     "iopub.status.busy": "2024-05-01T02:39:14.984621Z",
     "iopub.status.idle": "2024-05-01T02:39:29.592689Z",
     "shell.execute_reply": "2024-05-01T02:39:29.591740Z"
    },
    "papermill": {
     "duration": 14.623224,
     "end_time": "2024-05-01T02:39:29.595380",
     "exception": false,
     "start_time": "2024-05-01T02:39:14.972156",
     "status": "completed"
    },
    "tags": []
   },
   "outputs": [
    {
     "name": "stderr",
     "output_type": "stream",
     "text": [
      "2024-05-01 02:39:17.320161: E external/local_xla/xla/stream_executor/cuda/cuda_dnn.cc:9261] Unable to register cuDNN factory: Attempting to register factory for plugin cuDNN when one has already been registered\n",
      "2024-05-01 02:39:17.320274: E external/local_xla/xla/stream_executor/cuda/cuda_fft.cc:607] Unable to register cuFFT factory: Attempting to register factory for plugin cuFFT when one has already been registered\n",
      "2024-05-01 02:39:17.498549: E external/local_xla/xla/stream_executor/cuda/cuda_blas.cc:1515] Unable to register cuBLAS factory: Attempting to register factory for plugin cuBLAS when one has already been registered\n"
     ]
    }
   ],
   "source": [
    "import keras\n",
    "from keras import layers\n",
    "from keras import ops\n",
    "import numpy as np"
   ]
  },
  {
   "cell_type": "markdown",
   "id": "08535dec",
   "metadata": {
    "papermill": {
     "duration": 0.011148,
     "end_time": "2024-05-01T02:39:29.618239",
     "exception": false,
     "start_time": "2024-05-01T02:39:29.607091",
     "status": "completed"
    },
    "tags": []
   },
   "source": [
    "Keras basic example "
   ]
  },
  {
   "cell_type": "code",
   "execution_count": 2,
   "id": "3d11c6e0",
   "metadata": {
    "execution": {
     "iopub.execute_input": "2024-05-01T02:39:29.643025Z",
     "iopub.status.busy": "2024-05-01T02:39:29.642492Z",
     "iopub.status.idle": "2024-05-01T02:39:29.646901Z",
     "shell.execute_reply": "2024-05-01T02:39:29.645789Z"
    },
    "papermill": {
     "duration": 0.019678,
     "end_time": "2024-05-01T02:39:29.649041",
     "exception": false,
     "start_time": "2024-05-01T02:39:29.629363",
     "status": "completed"
    },
    "tags": []
   },
   "outputs": [],
   "source": [
    "# inputs = keras.Input(shape=(784,))\n",
    "# img_inputs = keras.Input(shape=(32, 32, 3))\n",
    "# dense = layers.Dense(64, activation=\"relu\")\n",
    "# x = dense(inputs)\n",
    "# x = layers.Dense(64, activation=\"relu\")(x)\n",
    "# outputs = layers.Dense(10)(x)"
   ]
  },
  {
   "cell_type": "code",
   "execution_count": 3,
   "id": "647d3ac6",
   "metadata": {
    "execution": {
     "iopub.execute_input": "2024-05-01T02:39:29.672164Z",
     "iopub.status.busy": "2024-05-01T02:39:29.671872Z",
     "iopub.status.idle": "2024-05-01T02:39:29.678124Z",
     "shell.execute_reply": "2024-05-01T02:39:29.677279Z"
    },
    "papermill": {
     "duration": 0.019908,
     "end_time": "2024-05-01T02:39:29.679996",
     "exception": false,
     "start_time": "2024-05-01T02:39:29.660088",
     "status": "completed"
    },
    "tags": []
   },
   "outputs": [],
   "source": [
    "inputs = keras.Input(shape=(784,))"
   ]
  },
  {
   "cell_type": "markdown",
   "id": "ef05c2fc",
   "metadata": {
    "papermill": {
     "duration": 0.010648,
     "end_time": "2024-05-01T02:39:29.702066",
     "exception": false,
     "start_time": "2024-05-01T02:39:29.691418",
     "status": "completed"
    },
    "tags": []
   },
   "source": [
    "Eg. of a input 28 x 28 x 1, which has be flattened to a single dimension, the vector"
   ]
  },
  {
   "cell_type": "code",
   "execution_count": 4,
   "id": "558bd691",
   "metadata": {
    "execution": {
     "iopub.execute_input": "2024-05-01T02:39:29.724936Z",
     "iopub.status.busy": "2024-05-01T02:39:29.724649Z",
     "iopub.status.idle": "2024-05-01T02:39:29.728672Z",
     "shell.execute_reply": "2024-05-01T02:39:29.727783Z"
    },
    "papermill": {
     "duration": 0.017669,
     "end_time": "2024-05-01T02:39:29.730726",
     "exception": false,
     "start_time": "2024-05-01T02:39:29.713057",
     "status": "completed"
    },
    "tags": []
   },
   "outputs": [],
   "source": [
    "img_inputs = inputs.reshape=(32, 32, 3)"
   ]
  },
  {
   "cell_type": "markdown",
   "id": "d9089fa1",
   "metadata": {
    "papermill": {
     "duration": 0.01069,
     "end_time": "2024-05-01T02:39:29.752294",
     "exception": false,
     "start_time": "2024-05-01T02:39:29.741604",
     "status": "completed"
    },
    "tags": []
   },
   "source": [
    "Eg. of specify what shape of input, rows (width), columns(height), channels, 3 is RGB"
   ]
  },
  {
   "cell_type": "code",
   "execution_count": 5,
   "id": "15d2d466",
   "metadata": {
    "execution": {
     "iopub.execute_input": "2024-05-01T02:39:29.777332Z",
     "iopub.status.busy": "2024-05-01T02:39:29.777003Z",
     "iopub.status.idle": "2024-05-01T02:39:29.783200Z",
     "shell.execute_reply": "2024-05-01T02:39:29.782137Z"
    },
    "papermill": {
     "duration": 0.021859,
     "end_time": "2024-05-01T02:39:29.785332",
     "exception": false,
     "start_time": "2024-05-01T02:39:29.763473",
     "status": "completed"
    },
    "tags": []
   },
   "outputs": [],
   "source": [
    "dense = layers.Dense(64, activation=\"relu\")"
   ]
  },
  {
   "cell_type": "markdown",
   "id": "b8e90f87",
   "metadata": {
    "papermill": {
     "duration": 0.011906,
     "end_time": "2024-05-01T02:39:29.809492",
     "exception": false,
     "start_time": "2024-05-01T02:39:29.797586",
     "status": "completed"
    },
    "tags": []
   },
   "source": [
    "Dense here are fully connected layers, that is previous layer is passed through with 64 neurons to the next layer, each neuron has a weight/parameter which is dot producted & relued. "
   ]
  },
  {
   "cell_type": "markdown",
   "id": "6050fa2b",
   "metadata": {
    "papermill": {
     "duration": 0.012246,
     "end_time": "2024-05-01T02:39:29.834217",
     "exception": false,
     "start_time": "2024-05-01T02:39:29.821971",
     "status": "completed"
    },
    "tags": []
   },
   "source": [
    "Dense \n",
    "\n",
    "https://images.app.goo.gl/3DZ3FJ1QHucV1QEM7"
   ]
  },
  {
   "cell_type": "code",
   "execution_count": 6,
   "id": "f6637688",
   "metadata": {
    "execution": {
     "iopub.execute_input": "2024-05-01T02:39:29.861357Z",
     "iopub.status.busy": "2024-05-01T02:39:29.860949Z",
     "iopub.status.idle": "2024-05-01T02:39:30.774519Z",
     "shell.execute_reply": "2024-05-01T02:39:30.773655Z"
    },
    "papermill": {
     "duration": 0.929922,
     "end_time": "2024-05-01T02:39:30.776715",
     "exception": false,
     "start_time": "2024-05-01T02:39:29.846793",
     "status": "completed"
    },
    "tags": []
   },
   "outputs": [],
   "source": [
    "x = dense(inputs)"
   ]
  },
  {
   "cell_type": "markdown",
   "id": "3c4b7ae0",
   "metadata": {
    "papermill": {
     "duration": 0.011381,
     "end_time": "2024-05-01T02:39:30.799522",
     "exception": false,
     "start_time": "2024-05-01T02:39:30.788141",
     "status": "completed"
    },
    "tags": []
   },
   "source": [
    "representation of one layer being passed to the next layer, x is a new layer by passing inputs to dense "
   ]
  },
  {
   "cell_type": "code",
   "execution_count": 7,
   "id": "74507f25",
   "metadata": {
    "execution": {
     "iopub.execute_input": "2024-05-01T02:39:30.822774Z",
     "iopub.status.busy": "2024-05-01T02:39:30.822476Z",
     "iopub.status.idle": "2024-05-01T02:39:30.834430Z",
     "shell.execute_reply": "2024-05-01T02:39:30.833692Z"
    },
    "papermill": {
     "duration": 0.026009,
     "end_time": "2024-05-01T02:39:30.836407",
     "exception": false,
     "start_time": "2024-05-01T02:39:30.810398",
     "status": "completed"
    },
    "tags": []
   },
   "outputs": [],
   "source": [
    "x = layers.Dense(64, activation=\"relu\")(x)"
   ]
  },
  {
   "cell_type": "markdown",
   "id": "6f61523c",
   "metadata": {
    "papermill": {
     "duration": 0.010698,
     "end_time": "2024-05-01T02:39:30.858014",
     "exception": false,
     "start_time": "2024-05-01T02:39:30.847316",
     "status": "completed"
    },
    "tags": []
   },
   "source": [
    "redifining new x layer by passing previous 'x' to new Dense"
   ]
  },
  {
   "cell_type": "code",
   "execution_count": 8,
   "id": "4d496782",
   "metadata": {
    "execution": {
     "iopub.execute_input": "2024-05-01T02:39:30.881339Z",
     "iopub.status.busy": "2024-05-01T02:39:30.881027Z",
     "iopub.status.idle": "2024-05-01T02:39:30.893403Z",
     "shell.execute_reply": "2024-05-01T02:39:30.892681Z"
    },
    "papermill": {
     "duration": 0.026784,
     "end_time": "2024-05-01T02:39:30.895386",
     "exception": false,
     "start_time": "2024-05-01T02:39:30.868602",
     "status": "completed"
    },
    "tags": []
   },
   "outputs": [],
   "source": [
    "outputs = layers.Dense(10)(x)"
   ]
  },
  {
   "cell_type": "markdown",
   "id": "fab08937",
   "metadata": {
    "papermill": {
     "duration": 0.010772,
     "end_time": "2024-05-01T02:39:30.917118",
     "exception": false,
     "start_time": "2024-05-01T02:39:30.906346",
     "status": "completed"
    },
    "tags": []
   },
   "source": [
    "defining last layer, name given as outputs"
   ]
  },
  {
   "cell_type": "markdown",
   "id": "beeb0425",
   "metadata": {
    "papermill": {
     "duration": 0.010606,
     "end_time": "2024-05-01T02:39:30.938567",
     "exception": false,
     "start_time": "2024-05-01T02:39:30.927961",
     "status": "completed"
    },
    "tags": []
   },
   "source": [
    "Buidling the model after defining all layers"
   ]
  },
  {
   "cell_type": "code",
   "execution_count": 9,
   "id": "fcc5b4e9",
   "metadata": {
    "execution": {
     "iopub.execute_input": "2024-05-01T02:39:30.961481Z",
     "iopub.status.busy": "2024-05-01T02:39:30.961169Z",
     "iopub.status.idle": "2024-05-01T02:39:30.969149Z",
     "shell.execute_reply": "2024-05-01T02:39:30.968282Z"
    },
    "papermill": {
     "duration": 0.022129,
     "end_time": "2024-05-01T02:39:30.971298",
     "exception": false,
     "start_time": "2024-05-01T02:39:30.949169",
     "status": "completed"
    },
    "tags": []
   },
   "outputs": [],
   "source": [
    "model = keras.Model(inputs=inputs, outputs=outputs, name=\"mnist_model\")"
   ]
  },
  {
   "cell_type": "code",
   "execution_count": 10,
   "id": "cb70a9f2",
   "metadata": {
    "execution": {
     "iopub.execute_input": "2024-05-01T02:39:30.994011Z",
     "iopub.status.busy": "2024-05-01T02:39:30.993736Z",
     "iopub.status.idle": "2024-05-01T02:39:31.012194Z",
     "shell.execute_reply": "2024-05-01T02:39:31.011401Z"
    },
    "papermill": {
     "duration": 0.031964,
     "end_time": "2024-05-01T02:39:31.014052",
     "exception": false,
     "start_time": "2024-05-01T02:39:30.982088",
     "status": "completed"
    },
    "tags": []
   },
   "outputs": [
    {
     "data": {
      "text/html": [
       "<pre style=\"white-space:pre;overflow-x:auto;line-height:normal;font-family:Menlo,'DejaVu Sans Mono',consolas,'Courier New',monospace\"><span style=\"font-weight: bold\">Model: \"mnist_model\"</span>\n",
       "</pre>\n"
      ],
      "text/plain": [
       "\u001b[1mModel: \"mnist_model\"\u001b[0m\n"
      ]
     },
     "metadata": {},
     "output_type": "display_data"
    },
    {
     "data": {
      "text/html": [
       "<pre style=\"white-space:pre;overflow-x:auto;line-height:normal;font-family:Menlo,'DejaVu Sans Mono',consolas,'Courier New',monospace\">┏━━━━━━━━━━━━━━━━━━━━━━━━━━━━━━━━━┳━━━━━━━━━━━━━━━━━━━━━━━━┳━━━━━━━━━━━━━━━┓\n",
       "┃<span style=\"font-weight: bold\"> Layer (type)                    </span>┃<span style=\"font-weight: bold\"> Output Shape           </span>┃<span style=\"font-weight: bold\">       Param # </span>┃\n",
       "┡━━━━━━━━━━━━━━━━━━━━━━━━━━━━━━━━━╇━━━━━━━━━━━━━━━━━━━━━━━━╇━━━━━━━━━━━━━━━┩\n",
       "│ input_layer (<span style=\"color: #0087ff; text-decoration-color: #0087ff\">InputLayer</span>)        │ (<span style=\"color: #00d7ff; text-decoration-color: #00d7ff\">None</span>, <span style=\"color: #00af00; text-decoration-color: #00af00\">784</span>)            │             <span style=\"color: #00af00; text-decoration-color: #00af00\">0</span> │\n",
       "├─────────────────────────────────┼────────────────────────┼───────────────┤\n",
       "│ dense (<span style=\"color: #0087ff; text-decoration-color: #0087ff\">Dense</span>)                   │ (<span style=\"color: #00d7ff; text-decoration-color: #00d7ff\">None</span>, <span style=\"color: #00af00; text-decoration-color: #00af00\">64</span>)             │        <span style=\"color: #00af00; text-decoration-color: #00af00\">50,240</span> │\n",
       "├─────────────────────────────────┼────────────────────────┼───────────────┤\n",
       "│ dense_1 (<span style=\"color: #0087ff; text-decoration-color: #0087ff\">Dense</span>)                 │ (<span style=\"color: #00d7ff; text-decoration-color: #00d7ff\">None</span>, <span style=\"color: #00af00; text-decoration-color: #00af00\">64</span>)             │         <span style=\"color: #00af00; text-decoration-color: #00af00\">4,160</span> │\n",
       "├─────────────────────────────────┼────────────────────────┼───────────────┤\n",
       "│ dense_2 (<span style=\"color: #0087ff; text-decoration-color: #0087ff\">Dense</span>)                 │ (<span style=\"color: #00d7ff; text-decoration-color: #00d7ff\">None</span>, <span style=\"color: #00af00; text-decoration-color: #00af00\">10</span>)             │           <span style=\"color: #00af00; text-decoration-color: #00af00\">650</span> │\n",
       "└─────────────────────────────────┴────────────────────────┴───────────────┘\n",
       "</pre>\n"
      ],
      "text/plain": [
       "┏━━━━━━━━━━━━━━━━━━━━━━━━━━━━━━━━━┳━━━━━━━━━━━━━━━━━━━━━━━━┳━━━━━━━━━━━━━━━┓\n",
       "┃\u001b[1m \u001b[0m\u001b[1mLayer (type)                   \u001b[0m\u001b[1m \u001b[0m┃\u001b[1m \u001b[0m\u001b[1mOutput Shape          \u001b[0m\u001b[1m \u001b[0m┃\u001b[1m \u001b[0m\u001b[1m      Param #\u001b[0m\u001b[1m \u001b[0m┃\n",
       "┡━━━━━━━━━━━━━━━━━━━━━━━━━━━━━━━━━╇━━━━━━━━━━━━━━━━━━━━━━━━╇━━━━━━━━━━━━━━━┩\n",
       "│ input_layer (\u001b[38;5;33mInputLayer\u001b[0m)        │ (\u001b[38;5;45mNone\u001b[0m, \u001b[38;5;34m784\u001b[0m)            │             \u001b[38;5;34m0\u001b[0m │\n",
       "├─────────────────────────────────┼────────────────────────┼───────────────┤\n",
       "│ dense (\u001b[38;5;33mDense\u001b[0m)                   │ (\u001b[38;5;45mNone\u001b[0m, \u001b[38;5;34m64\u001b[0m)             │        \u001b[38;5;34m50,240\u001b[0m │\n",
       "├─────────────────────────────────┼────────────────────────┼───────────────┤\n",
       "│ dense_1 (\u001b[38;5;33mDense\u001b[0m)                 │ (\u001b[38;5;45mNone\u001b[0m, \u001b[38;5;34m64\u001b[0m)             │         \u001b[38;5;34m4,160\u001b[0m │\n",
       "├─────────────────────────────────┼────────────────────────┼───────────────┤\n",
       "│ dense_2 (\u001b[38;5;33mDense\u001b[0m)                 │ (\u001b[38;5;45mNone\u001b[0m, \u001b[38;5;34m10\u001b[0m)             │           \u001b[38;5;34m650\u001b[0m │\n",
       "└─────────────────────────────────┴────────────────────────┴───────────────┘\n"
      ]
     },
     "metadata": {},
     "output_type": "display_data"
    },
    {
     "data": {
      "text/html": [
       "<pre style=\"white-space:pre;overflow-x:auto;line-height:normal;font-family:Menlo,'DejaVu Sans Mono',consolas,'Courier New',monospace\"><span style=\"font-weight: bold\"> Total params: </span><span style=\"color: #00af00; text-decoration-color: #00af00\">55,050</span> (215.04 KB)\n",
       "</pre>\n"
      ],
      "text/plain": [
       "\u001b[1m Total params: \u001b[0m\u001b[38;5;34m55,050\u001b[0m (215.04 KB)\n"
      ]
     },
     "metadata": {},
     "output_type": "display_data"
    },
    {
     "data": {
      "text/html": [
       "<pre style=\"white-space:pre;overflow-x:auto;line-height:normal;font-family:Menlo,'DejaVu Sans Mono',consolas,'Courier New',monospace\"><span style=\"font-weight: bold\"> Trainable params: </span><span style=\"color: #00af00; text-decoration-color: #00af00\">55,050</span> (215.04 KB)\n",
       "</pre>\n"
      ],
      "text/plain": [
       "\u001b[1m Trainable params: \u001b[0m\u001b[38;5;34m55,050\u001b[0m (215.04 KB)\n"
      ]
     },
     "metadata": {},
     "output_type": "display_data"
    },
    {
     "data": {
      "text/html": [
       "<pre style=\"white-space:pre;overflow-x:auto;line-height:normal;font-family:Menlo,'DejaVu Sans Mono',consolas,'Courier New',monospace\"><span style=\"font-weight: bold\"> Non-trainable params: </span><span style=\"color: #00af00; text-decoration-color: #00af00\">0</span> (0.00 B)\n",
       "</pre>\n"
      ],
      "text/plain": [
       "\u001b[1m Non-trainable params: \u001b[0m\u001b[38;5;34m0\u001b[0m (0.00 B)\n"
      ]
     },
     "metadata": {},
     "output_type": "display_data"
    }
   ],
   "source": [
    "model.summary()"
   ]
  },
  {
   "cell_type": "code",
   "execution_count": 11,
   "id": "a216fd88",
   "metadata": {
    "execution": {
     "iopub.execute_input": "2024-05-01T02:39:31.038250Z",
     "iopub.status.busy": "2024-05-01T02:39:31.037972Z",
     "iopub.status.idle": "2024-05-01T02:39:31.042237Z",
     "shell.execute_reply": "2024-05-01T02:39:31.041300Z"
    },
    "papermill": {
     "duration": 0.018945,
     "end_time": "2024-05-01T02:39:31.044683",
     "exception": false,
     "start_time": "2024-05-01T02:39:31.025738",
     "status": "completed"
    },
    "tags": []
   },
   "outputs": [],
   "source": [
    "# (x_train, y_train), (x_test, y_test) = keras.datasets.mnist.load_data()\n",
    "\n",
    "# x_train = x_train.reshape(60000, 784).astype(\"float32\") / 255\n",
    "# x_test = x_test.reshape(10000, 784).astype(\"float32\") / 255\n",
    "\n",
    "# model.compile(\n",
    "#     loss=keras.losses.SparseCategoricalCrossentropy(from_logits=True),\n",
    "#     optimizer=keras.optimizers.RMSprop(),\n",
    "#     metrics=[\"accuracy\"],\n",
    "# )\n",
    "\n",
    "# history = model.fit(x_train, y_train, batch_size=64, epochs=2, validation_split=0.2)\n",
    "\n",
    "# test_scores = model.evaluate(x_test, y_test, verbose=2)\n",
    "# print(\"Test loss:\", test_scores[0])\n",
    "# print(\"Test accuracy:\", test_scores[1])"
   ]
  },
  {
   "cell_type": "code",
   "execution_count": 12,
   "id": "5d78c74a",
   "metadata": {
    "execution": {
     "iopub.execute_input": "2024-05-01T02:39:31.070336Z",
     "iopub.status.busy": "2024-05-01T02:39:31.070031Z",
     "iopub.status.idle": "2024-05-01T02:39:31.474897Z",
     "shell.execute_reply": "2024-05-01T02:39:31.474061Z"
    },
    "papermill": {
     "duration": 0.420035,
     "end_time": "2024-05-01T02:39:31.477301",
     "exception": false,
     "start_time": "2024-05-01T02:39:31.057266",
     "status": "completed"
    },
    "tags": []
   },
   "outputs": [
    {
     "name": "stdout",
     "output_type": "stream",
     "text": [
      "Downloading data from https://storage.googleapis.com/tensorflow/tf-keras-datasets/mnist.npz\n",
      "\u001b[1m11490434/11490434\u001b[0m \u001b[32m━━━━━━━━━━━━━━━━━━━━\u001b[0m\u001b[37m\u001b[0m \u001b[1m0s\u001b[0m 0us/step\n"
     ]
    }
   ],
   "source": [
    "(x_train, y_train), (x_test, y_test) = keras.datasets.mnist.load_data()"
   ]
  },
  {
   "cell_type": "code",
   "execution_count": 13,
   "id": "895057f8",
   "metadata": {
    "execution": {
     "iopub.execute_input": "2024-05-01T02:39:31.504013Z",
     "iopub.status.busy": "2024-05-01T02:39:31.503680Z",
     "iopub.status.idle": "2024-05-01T02:39:31.585481Z",
     "shell.execute_reply": "2024-05-01T02:39:31.584404Z"
    },
    "papermill": {
     "duration": 0.098164,
     "end_time": "2024-05-01T02:39:31.588115",
     "exception": false,
     "start_time": "2024-05-01T02:39:31.489951",
     "status": "completed"
    },
    "tags": []
   },
   "outputs": [],
   "source": [
    "x_train = x_train.reshape(60000, 784).astype(\"float32\") / 255\n",
    "x_test = x_test.reshape(10000, 784).astype(\"float32\") / 255"
   ]
  },
  {
   "cell_type": "markdown",
   "id": "e7300988",
   "metadata": {
    "papermill": {
     "duration": 0.012715,
     "end_time": "2024-05-01T02:39:31.613890",
     "exception": false,
     "start_time": "2024-05-01T02:39:31.601175",
     "status": "completed"
    },
    "tags": []
   },
   "source": [
    "60000 is number of training data samples, 10000 is testing data samples, 255 is RGB intensity scale"
   ]
  },
  {
   "cell_type": "code",
   "execution_count": 14,
   "id": "444b01f6",
   "metadata": {
    "execution": {
     "iopub.execute_input": "2024-05-01T02:39:31.640090Z",
     "iopub.status.busy": "2024-05-01T02:39:31.639735Z",
     "iopub.status.idle": "2024-05-01T02:39:31.654220Z",
     "shell.execute_reply": "2024-05-01T02:39:31.653447Z"
    },
    "papermill": {
     "duration": 0.029863,
     "end_time": "2024-05-01T02:39:31.656243",
     "exception": false,
     "start_time": "2024-05-01T02:39:31.626380",
     "status": "completed"
    },
    "tags": []
   },
   "outputs": [],
   "source": [
    "model.compile(\n",
    "    loss=keras.losses.SparseCategoricalCrossentropy(from_logits=True),\n",
    "    optimizer=keras.optimizers.RMSprop(),\n",
    "    metrics=[\"accuracy\"],\n",
    ")"
   ]
  },
  {
   "cell_type": "markdown",
   "id": "45a9e612",
   "metadata": {
    "papermill": {
     "duration": 0.012369,
     "end_time": "2024-05-01T02:39:31.680705",
     "exception": false,
     "start_time": "2024-05-01T02:39:31.668336",
     "status": "completed"
    },
    "tags": []
   },
   "source": [
    "Optimisers: adjustable algorithms to minimisese loss, adjust mostly the weights and learning rate. \n",
    "\n",
    "1. SGD 2. RMS 3. ADAM combines both SGD and RMS\n",
    "\n",
    "metric: measures the proprotion of correct prediction\n",
    "\n",
    "1. Accuracy : binary and catergorical, picks out class variable itself eg. 0/1\n",
    "2. Probability: binary crossentropy and categorical cross entropy, first gives probabilites of 0/1, threshold then classifies 0/1. Eg threshold=0.5 for 0.6/0.2 gives 1/0 output\n",
    "3. Regression: stats math metrics like MSE, MAE etc \n",
    "4. Image: OnehotIU, IOU etc\n",
    "\n",
    "Loss: measurable difference between predicted and actual values\n",
    "\n",
    "1. Probabilistic losses\n",
    "2. Regression losses \n",
    "\n"
   ]
  },
  {
   "cell_type": "code",
   "execution_count": 15,
   "id": "bcc1fd46",
   "metadata": {
    "execution": {
     "iopub.execute_input": "2024-05-01T02:39:31.706646Z",
     "iopub.status.busy": "2024-05-01T02:39:31.706098Z",
     "iopub.status.idle": "2024-05-01T02:39:39.489577Z",
     "shell.execute_reply": "2024-05-01T02:39:39.488473Z"
    },
    "papermill": {
     "duration": 7.799211,
     "end_time": "2024-05-01T02:39:39.492221",
     "exception": false,
     "start_time": "2024-05-01T02:39:31.693010",
     "status": "completed"
    },
    "tags": []
   },
   "outputs": [
    {
     "name": "stdout",
     "output_type": "stream",
     "text": [
      "Epoch 1/2\n",
      "\u001b[1m 90/750\u001b[0m \u001b[32m━━\u001b[0m\u001b[37m━━━━━━━━━━━━━━━━━━\u001b[0m \u001b[1m1s\u001b[0m 2ms/step - accuracy: 0.6381 - loss: 1.3019"
     ]
    },
    {
     "name": "stderr",
     "output_type": "stream",
     "text": [
      "WARNING: All log messages before absl::InitializeLog() is called are written to STDERR\n",
      "I0000 00:00:1714531174.322207      71 device_compiler.h:186] Compiled cluster using XLA!  This line is logged at most once for the lifetime of the process.\n",
      "W0000 00:00:1714531174.336508      71 graph_launch.cc:671] Fallback to op-by-op mode because memset node breaks graph update\n"
     ]
    },
    {
     "name": "stdout",
     "output_type": "stream",
     "text": [
      "\u001b[1m728/750\u001b[0m \u001b[32m━━━━━━━━━━━━━━━━━━━\u001b[0m\u001b[37m━\u001b[0m \u001b[1m0s\u001b[0m 2ms/step - accuracy: 0.8378 - loss: 0.5866"
     ]
    },
    {
     "name": "stderr",
     "output_type": "stream",
     "text": [
      "W0000 00:00:1714531176.200770      72 graph_launch.cc:671] Fallback to op-by-op mode because memset node breaks graph update\n"
     ]
    },
    {
     "name": "stdout",
     "output_type": "stream",
     "text": [
      "\u001b[1m750/750\u001b[0m \u001b[32m━━━━━━━━━━━━━━━━━━━━\u001b[0m\u001b[37m\u001b[0m \u001b[1m5s\u001b[0m 3ms/step - accuracy: 0.8397 - loss: 0.5795 - val_accuracy: 0.9433 - val_loss: 0.1982\n",
      "Epoch 2/2\n",
      "\u001b[1m 97/750\u001b[0m \u001b[32m━━\u001b[0m\u001b[37m━━━━━━━━━━━━━━━━━━\u001b[0m \u001b[1m1s\u001b[0m 2ms/step - accuracy: 0.9436 - loss: 0.1920"
     ]
    },
    {
     "name": "stderr",
     "output_type": "stream",
     "text": [
      "W0000 00:00:1714531176.916734      72 graph_launch.cc:671] Fallback to op-by-op mode because memset node breaks graph update\n"
     ]
    },
    {
     "name": "stdout",
     "output_type": "stream",
     "text": [
      "\u001b[1m750/750\u001b[0m \u001b[32m━━━━━━━━━━━━━━━━━━━━\u001b[0m\u001b[37m\u001b[0m \u001b[1m2s\u001b[0m 2ms/step - accuracy: 0.9461 - loss: 0.1810 - val_accuracy: 0.9582 - val_loss: 0.1425\n"
     ]
    }
   ],
   "source": [
    "history = model.fit(x_train, y_train, batch_size=64, epochs=2, validation_split=0.2)"
   ]
  },
  {
   "cell_type": "code",
   "execution_count": 16,
   "id": "ef21abc8",
   "metadata": {
    "execution": {
     "iopub.execute_input": "2024-05-01T02:39:39.527037Z",
     "iopub.status.busy": "2024-05-01T02:39:39.526692Z",
     "iopub.status.idle": "2024-05-01T02:39:40.518731Z",
     "shell.execute_reply": "2024-05-01T02:39:40.517675Z"
    },
    "papermill": {
     "duration": 1.01204,
     "end_time": "2024-05-01T02:39:40.521046",
     "exception": false,
     "start_time": "2024-05-01T02:39:39.509006",
     "status": "completed"
    },
    "tags": []
   },
   "outputs": [
    {
     "name": "stdout",
     "output_type": "stream",
     "text": [
      "313/313 - 1s - 3ms/step - accuracy: 0.9587 - loss: 0.1398\n",
      "Test loss: 0.1398383527994156\n",
      "Test accuracy: 0.9587000012397766\n"
     ]
    }
   ],
   "source": [
    "test_scores = model.evaluate(x_test, y_test, verbose=2)\n",
    "print(\"Test loss:\", test_scores[0])\n",
    "print(\"Test accuracy:\", test_scores[1])"
   ]
  },
  {
   "cell_type": "code",
   "execution_count": 17,
   "id": "c6cd7b30",
   "metadata": {
    "execution": {
     "iopub.execute_input": "2024-05-01T02:39:40.577692Z",
     "iopub.status.busy": "2024-05-01T02:39:40.576510Z",
     "iopub.status.idle": "2024-05-01T02:39:40.860156Z",
     "shell.execute_reply": "2024-05-01T02:39:40.859090Z"
    },
    "papermill": {
     "duration": 0.311298,
     "end_time": "2024-05-01T02:39:40.862669",
     "exception": false,
     "start_time": "2024-05-01T02:39:40.551371",
     "status": "completed"
    },
    "tags": []
   },
   "outputs": [
    {
     "name": "stdout",
     "output_type": "stream",
     "text": [
      "\u001b[1m1/1\u001b[0m \u001b[32m━━━━━━━━━━━━━━━━━━━━\u001b[0m\u001b[37m\u001b[0m \u001b[1m0s\u001b[0m 220ms/step\n"
     ]
    }
   ],
   "source": [
    "test_img = x_test[11].reshape(1, 784)\n",
    "predictions = model.predict(test_img)\n",
    "predicted_class = np.argmax(predictions)\n",
    "true_label = y_test[11]\n"
   ]
  },
  {
   "cell_type": "code",
   "execution_count": 18,
   "id": "6060d1a5",
   "metadata": {
    "execution": {
     "iopub.execute_input": "2024-05-01T02:39:40.946895Z",
     "iopub.status.busy": "2024-05-01T02:39:40.945931Z",
     "iopub.status.idle": "2024-05-01T02:39:40.952685Z",
     "shell.execute_reply": "2024-05-01T02:39:40.950843Z"
    },
    "papermill": {
     "duration": 0.070725,
     "end_time": "2024-05-01T02:39:40.955364",
     "exception": false,
     "start_time": "2024-05-01T02:39:40.884639",
     "status": "completed"
    },
    "tags": []
   },
   "outputs": [
    {
     "name": "stdout",
     "output_type": "stream",
     "text": [
      "Predicted class: 6\n",
      "True label: 6\n"
     ]
    }
   ],
   "source": [
    "print(\"Predicted class:\", predicted_class)\n",
    "print(\"True label:\", true_label)"
   ]
  },
  {
   "cell_type": "markdown",
   "id": "2f37f06a",
   "metadata": {
    "papermill": {
     "duration": 0.01803,
     "end_time": "2024-05-01T02:39:40.996345",
     "exception": false,
     "start_time": "2024-05-01T02:39:40.978315",
     "status": "completed"
    },
    "tags": []
   },
   "source": [
    "Creating a custom model by customising the layers"
   ]
  },
  {
   "cell_type": "code",
   "execution_count": 19,
   "id": "5e9eb8a2",
   "metadata": {
    "execution": {
     "iopub.execute_input": "2024-05-01T02:39:41.034498Z",
     "iopub.status.busy": "2024-05-01T02:39:41.033570Z",
     "iopub.status.idle": "2024-05-01T02:39:41.075273Z",
     "shell.execute_reply": "2024-05-01T02:39:41.074134Z"
    },
    "papermill": {
     "duration": 0.063209,
     "end_time": "2024-05-01T02:39:41.077788",
     "exception": false,
     "start_time": "2024-05-01T02:39:41.014579",
     "status": "completed"
    },
    "tags": []
   },
   "outputs": [],
   "source": [
    "img_inputs = keras.Input(shape=(28, 28, 1), name='mnist_img')\n",
    "first_layer = layers.Conv2D(32, 3, activation='relu')(img_inputs)\n",
    "second_layer = layers.Conv2D(32, 3, activation='relu')(first_layer)\n",
    "first_pool = layers.MaxPooling2D(3)(second_layer)\n",
    "third_layer = layers.Conv2D(32, 3, activation='relu')(first_pool)\n",
    "img_output = layers.GlobalMaxPooling2D()(third_layer)\n",
    "\n",
    "\n",
    "mnist_model = keras.Model(inputs=img_inputs, outputs=img_output, name=\"my_mnist_model\")"
   ]
  },
  {
   "cell_type": "code",
   "execution_count": 20,
   "id": "24d26592",
   "metadata": {
    "execution": {
     "iopub.execute_input": "2024-05-01T02:39:41.124874Z",
     "iopub.status.busy": "2024-05-01T02:39:41.124513Z",
     "iopub.status.idle": "2024-05-01T02:39:41.173818Z",
     "shell.execute_reply": "2024-05-01T02:39:41.172853Z"
    },
    "papermill": {
     "duration": 0.073013,
     "end_time": "2024-05-01T02:39:41.176014",
     "exception": false,
     "start_time": "2024-05-01T02:39:41.103001",
     "status": "completed"
    },
    "tags": []
   },
   "outputs": [],
   "source": [
    "img_inputs = keras.Input(shape=(28, 28, 1), name='mnist_img')\n",
    "first_layer = layers.Conv2D(32, 3, activation='relu')(img_inputs)\n",
    "second_layer = layers.Conv2D(32, 3, activation='relu')(first_layer)\n",
    "first_pool = layers.MaxPooling2D(3)(second_layer)\n",
    "third_layer = layers.Conv2D(32, 3, activation='relu')(first_pool)\n",
    "second_pool = layers.GlobalMaxPooling2D()(third_layer)\n",
    "img_output = layers.Dense(64)(second_pool)\n",
    "\n",
    "mnist_model = keras.Model(inputs=img_inputs, outputs=img_output, name=\"my_mnist_model\")"
   ]
  },
  {
   "cell_type": "markdown",
   "id": "46993724",
   "metadata": {
    "papermill": {
     "duration": 0.017158,
     "end_time": "2024-05-01T02:39:41.210631",
     "exception": false,
     "start_time": "2024-05-01T02:39:41.193473",
     "status": "completed"
    },
    "tags": []
   },
   "source": [
    "Max pooling\n",
    "\n",
    "https://images.app.goo.gl/YkcCsK16AZD5HP8K9"
   ]
  },
  {
   "cell_type": "markdown",
   "id": "68f26fa5",
   "metadata": {
    "papermill": {
     "duration": 0.016774,
     "end_time": "2024-05-01T02:39:41.244564",
     "exception": false,
     "start_time": "2024-05-01T02:39:41.227790",
     "status": "completed"
    },
    "tags": []
   },
   "source": [
    "Global max pooling\n",
    "\n",
    "https://images.app.goo.gl/SGiUPBJBY5BX29Tr6"
   ]
  },
  {
   "cell_type": "code",
   "execution_count": 21,
   "id": "41d18579",
   "metadata": {
    "execution": {
     "iopub.execute_input": "2024-05-01T02:39:41.281565Z",
     "iopub.status.busy": "2024-05-01T02:39:41.280816Z",
     "iopub.status.idle": "2024-05-01T02:39:41.306277Z",
     "shell.execute_reply": "2024-05-01T02:39:41.305254Z"
    },
    "papermill": {
     "duration": 0.046209,
     "end_time": "2024-05-01T02:39:41.308470",
     "exception": false,
     "start_time": "2024-05-01T02:39:41.262261",
     "status": "completed"
    },
    "tags": []
   },
   "outputs": [
    {
     "data": {
      "text/html": [
       "<pre style=\"white-space:pre;overflow-x:auto;line-height:normal;font-family:Menlo,'DejaVu Sans Mono',consolas,'Courier New',monospace\"><span style=\"font-weight: bold\">Model: \"my_mnist_model\"</span>\n",
       "</pre>\n"
      ],
      "text/plain": [
       "\u001b[1mModel: \"my_mnist_model\"\u001b[0m\n"
      ]
     },
     "metadata": {},
     "output_type": "display_data"
    },
    {
     "data": {
      "text/html": [
       "<pre style=\"white-space:pre;overflow-x:auto;line-height:normal;font-family:Menlo,'DejaVu Sans Mono',consolas,'Courier New',monospace\">┏━━━━━━━━━━━━━━━━━━━━━━━━━━━━━━━━━┳━━━━━━━━━━━━━━━━━━━━━━━━┳━━━━━━━━━━━━━━━┓\n",
       "┃<span style=\"font-weight: bold\"> Layer (type)                    </span>┃<span style=\"font-weight: bold\"> Output Shape           </span>┃<span style=\"font-weight: bold\">       Param # </span>┃\n",
       "┡━━━━━━━━━━━━━━━━━━━━━━━━━━━━━━━━━╇━━━━━━━━━━━━━━━━━━━━━━━━╇━━━━━━━━━━━━━━━┩\n",
       "│ mnist_img (<span style=\"color: #0087ff; text-decoration-color: #0087ff\">InputLayer</span>)          │ (<span style=\"color: #00d7ff; text-decoration-color: #00d7ff\">None</span>, <span style=\"color: #00af00; text-decoration-color: #00af00\">28</span>, <span style=\"color: #00af00; text-decoration-color: #00af00\">28</span>, <span style=\"color: #00af00; text-decoration-color: #00af00\">1</span>)      │             <span style=\"color: #00af00; text-decoration-color: #00af00\">0</span> │\n",
       "├─────────────────────────────────┼────────────────────────┼───────────────┤\n",
       "│ conv2d_3 (<span style=\"color: #0087ff; text-decoration-color: #0087ff\">Conv2D</span>)               │ (<span style=\"color: #00d7ff; text-decoration-color: #00d7ff\">None</span>, <span style=\"color: #00af00; text-decoration-color: #00af00\">26</span>, <span style=\"color: #00af00; text-decoration-color: #00af00\">26</span>, <span style=\"color: #00af00; text-decoration-color: #00af00\">32</span>)     │           <span style=\"color: #00af00; text-decoration-color: #00af00\">320</span> │\n",
       "├─────────────────────────────────┼────────────────────────┼───────────────┤\n",
       "│ conv2d_4 (<span style=\"color: #0087ff; text-decoration-color: #0087ff\">Conv2D</span>)               │ (<span style=\"color: #00d7ff; text-decoration-color: #00d7ff\">None</span>, <span style=\"color: #00af00; text-decoration-color: #00af00\">24</span>, <span style=\"color: #00af00; text-decoration-color: #00af00\">24</span>, <span style=\"color: #00af00; text-decoration-color: #00af00\">32</span>)     │         <span style=\"color: #00af00; text-decoration-color: #00af00\">9,248</span> │\n",
       "├─────────────────────────────────┼────────────────────────┼───────────────┤\n",
       "│ max_pooling2d_1 (<span style=\"color: #0087ff; text-decoration-color: #0087ff\">MaxPooling2D</span>)  │ (<span style=\"color: #00d7ff; text-decoration-color: #00d7ff\">None</span>, <span style=\"color: #00af00; text-decoration-color: #00af00\">8</span>, <span style=\"color: #00af00; text-decoration-color: #00af00\">8</span>, <span style=\"color: #00af00; text-decoration-color: #00af00\">32</span>)       │             <span style=\"color: #00af00; text-decoration-color: #00af00\">0</span> │\n",
       "├─────────────────────────────────┼────────────────────────┼───────────────┤\n",
       "│ conv2d_5 (<span style=\"color: #0087ff; text-decoration-color: #0087ff\">Conv2D</span>)               │ (<span style=\"color: #00d7ff; text-decoration-color: #00d7ff\">None</span>, <span style=\"color: #00af00; text-decoration-color: #00af00\">6</span>, <span style=\"color: #00af00; text-decoration-color: #00af00\">6</span>, <span style=\"color: #00af00; text-decoration-color: #00af00\">32</span>)       │         <span style=\"color: #00af00; text-decoration-color: #00af00\">9,248</span> │\n",
       "├─────────────────────────────────┼────────────────────────┼───────────────┤\n",
       "│ global_max_pooling2d_1          │ (<span style=\"color: #00d7ff; text-decoration-color: #00d7ff\">None</span>, <span style=\"color: #00af00; text-decoration-color: #00af00\">32</span>)             │             <span style=\"color: #00af00; text-decoration-color: #00af00\">0</span> │\n",
       "│ (<span style=\"color: #0087ff; text-decoration-color: #0087ff\">GlobalMaxPooling2D</span>)            │                        │               │\n",
       "├─────────────────────────────────┼────────────────────────┼───────────────┤\n",
       "│ dense_3 (<span style=\"color: #0087ff; text-decoration-color: #0087ff\">Dense</span>)                 │ (<span style=\"color: #00d7ff; text-decoration-color: #00d7ff\">None</span>, <span style=\"color: #00af00; text-decoration-color: #00af00\">64</span>)             │         <span style=\"color: #00af00; text-decoration-color: #00af00\">2,112</span> │\n",
       "└─────────────────────────────────┴────────────────────────┴───────────────┘\n",
       "</pre>\n"
      ],
      "text/plain": [
       "┏━━━━━━━━━━━━━━━━━━━━━━━━━━━━━━━━━┳━━━━━━━━━━━━━━━━━━━━━━━━┳━━━━━━━━━━━━━━━┓\n",
       "┃\u001b[1m \u001b[0m\u001b[1mLayer (type)                   \u001b[0m\u001b[1m \u001b[0m┃\u001b[1m \u001b[0m\u001b[1mOutput Shape          \u001b[0m\u001b[1m \u001b[0m┃\u001b[1m \u001b[0m\u001b[1m      Param #\u001b[0m\u001b[1m \u001b[0m┃\n",
       "┡━━━━━━━━━━━━━━━━━━━━━━━━━━━━━━━━━╇━━━━━━━━━━━━━━━━━━━━━━━━╇━━━━━━━━━━━━━━━┩\n",
       "│ mnist_img (\u001b[38;5;33mInputLayer\u001b[0m)          │ (\u001b[38;5;45mNone\u001b[0m, \u001b[38;5;34m28\u001b[0m, \u001b[38;5;34m28\u001b[0m, \u001b[38;5;34m1\u001b[0m)      │             \u001b[38;5;34m0\u001b[0m │\n",
       "├─────────────────────────────────┼────────────────────────┼───────────────┤\n",
       "│ conv2d_3 (\u001b[38;5;33mConv2D\u001b[0m)               │ (\u001b[38;5;45mNone\u001b[0m, \u001b[38;5;34m26\u001b[0m, \u001b[38;5;34m26\u001b[0m, \u001b[38;5;34m32\u001b[0m)     │           \u001b[38;5;34m320\u001b[0m │\n",
       "├─────────────────────────────────┼────────────────────────┼───────────────┤\n",
       "│ conv2d_4 (\u001b[38;5;33mConv2D\u001b[0m)               │ (\u001b[38;5;45mNone\u001b[0m, \u001b[38;5;34m24\u001b[0m, \u001b[38;5;34m24\u001b[0m, \u001b[38;5;34m32\u001b[0m)     │         \u001b[38;5;34m9,248\u001b[0m │\n",
       "├─────────────────────────────────┼────────────────────────┼───────────────┤\n",
       "│ max_pooling2d_1 (\u001b[38;5;33mMaxPooling2D\u001b[0m)  │ (\u001b[38;5;45mNone\u001b[0m, \u001b[38;5;34m8\u001b[0m, \u001b[38;5;34m8\u001b[0m, \u001b[38;5;34m32\u001b[0m)       │             \u001b[38;5;34m0\u001b[0m │\n",
       "├─────────────────────────────────┼────────────────────────┼───────────────┤\n",
       "│ conv2d_5 (\u001b[38;5;33mConv2D\u001b[0m)               │ (\u001b[38;5;45mNone\u001b[0m, \u001b[38;5;34m6\u001b[0m, \u001b[38;5;34m6\u001b[0m, \u001b[38;5;34m32\u001b[0m)       │         \u001b[38;5;34m9,248\u001b[0m │\n",
       "├─────────────────────────────────┼────────────────────────┼───────────────┤\n",
       "│ global_max_pooling2d_1          │ (\u001b[38;5;45mNone\u001b[0m, \u001b[38;5;34m32\u001b[0m)             │             \u001b[38;5;34m0\u001b[0m │\n",
       "│ (\u001b[38;5;33mGlobalMaxPooling2D\u001b[0m)            │                        │               │\n",
       "├─────────────────────────────────┼────────────────────────┼───────────────┤\n",
       "│ dense_3 (\u001b[38;5;33mDense\u001b[0m)                 │ (\u001b[38;5;45mNone\u001b[0m, \u001b[38;5;34m64\u001b[0m)             │         \u001b[38;5;34m2,112\u001b[0m │\n",
       "└─────────────────────────────────┴────────────────────────┴───────────────┘\n"
      ]
     },
     "metadata": {},
     "output_type": "display_data"
    },
    {
     "data": {
      "text/html": [
       "<pre style=\"white-space:pre;overflow-x:auto;line-height:normal;font-family:Menlo,'DejaVu Sans Mono',consolas,'Courier New',monospace\"><span style=\"font-weight: bold\"> Total params: </span><span style=\"color: #00af00; text-decoration-color: #00af00\">20,928</span> (81.75 KB)\n",
       "</pre>\n"
      ],
      "text/plain": [
       "\u001b[1m Total params: \u001b[0m\u001b[38;5;34m20,928\u001b[0m (81.75 KB)\n"
      ]
     },
     "metadata": {},
     "output_type": "display_data"
    },
    {
     "data": {
      "text/html": [
       "<pre style=\"white-space:pre;overflow-x:auto;line-height:normal;font-family:Menlo,'DejaVu Sans Mono',consolas,'Courier New',monospace\"><span style=\"font-weight: bold\"> Trainable params: </span><span style=\"color: #00af00; text-decoration-color: #00af00\">20,928</span> (81.75 KB)\n",
       "</pre>\n"
      ],
      "text/plain": [
       "\u001b[1m Trainable params: \u001b[0m\u001b[38;5;34m20,928\u001b[0m (81.75 KB)\n"
      ]
     },
     "metadata": {},
     "output_type": "display_data"
    },
    {
     "data": {
      "text/html": [
       "<pre style=\"white-space:pre;overflow-x:auto;line-height:normal;font-family:Menlo,'DejaVu Sans Mono',consolas,'Courier New',monospace\"><span style=\"font-weight: bold\"> Non-trainable params: </span><span style=\"color: #00af00; text-decoration-color: #00af00\">0</span> (0.00 B)\n",
       "</pre>\n"
      ],
      "text/plain": [
       "\u001b[1m Non-trainable params: \u001b[0m\u001b[38;5;34m0\u001b[0m (0.00 B)\n"
      ]
     },
     "metadata": {},
     "output_type": "display_data"
    }
   ],
   "source": [
    "mnist_model.summary()"
   ]
  },
  {
   "cell_type": "code",
   "execution_count": 22,
   "id": "b5958051",
   "metadata": {
    "execution": {
     "iopub.execute_input": "2024-05-01T02:39:41.346261Z",
     "iopub.status.busy": "2024-05-01T02:39:41.345945Z",
     "iopub.status.idle": "2024-05-01T02:39:52.722683Z",
     "shell.execute_reply": "2024-05-01T02:39:52.721359Z"
    },
    "papermill": {
     "duration": 11.398265,
     "end_time": "2024-05-01T02:39:52.724874",
     "exception": false,
     "start_time": "2024-05-01T02:39:41.326609",
     "status": "completed"
    },
    "tags": []
   },
   "outputs": [
    {
     "name": "stdout",
     "output_type": "stream",
     "text": [
      "Epoch 1/2\n",
      "\u001b[1m750/750\u001b[0m \u001b[32m━━━━━━━━━━━━━━━━━━━━\u001b[0m\u001b[37m\u001b[0m \u001b[1m7s\u001b[0m 5ms/step - accuracy: 0.5838 - loss: 1.3530 - val_accuracy: 0.9267 - val_loss: 0.2403\n",
      "Epoch 2/2\n",
      "\u001b[1m750/750\u001b[0m \u001b[32m━━━━━━━━━━━━━━━━━━━━\u001b[0m\u001b[37m\u001b[0m \u001b[1m2s\u001b[0m 3ms/step - accuracy: 0.9377 - loss: 0.2013 - val_accuracy: 0.9582 - val_loss: 0.1340\n",
      "313/313 - 1s - 3ms/step - accuracy: 0.9550 - loss: 0.1299\n",
      "Test loss: 0.12986035645008087\n",
      "Test accuracy: 0.9549999833106995\n"
     ]
    }
   ],
   "source": [
    "(x_train, y_train), (x_test, y_test) = keras.datasets.mnist.load_data()\n",
    "\n",
    "x_train = np.expand_dims(x_train, -1).astype(\"float32\") / 255\n",
    "x_test = np.expand_dims(x_test, -1).astype(\"float32\") / 255\n",
    "\n",
    "mnist_model.compile(\n",
    "    loss=keras.losses.SparseCategoricalCrossentropy(from_logits=True),\n",
    "    optimizer=keras.optimizers.RMSprop(),\n",
    "    metrics=[\"accuracy\"],\n",
    ")\n",
    "\n",
    "history = mnist_model.fit(x_train, y_train, batch_size=64, epochs=2, validation_split=0.2)\n",
    "\n",
    "test_scores = mnist_model.evaluate(x_test, y_test, verbose=2)\n",
    "print(\"Test loss:\", test_scores[0])\n",
    "print(\"Test accuracy:\", test_scores[1])"
   ]
  },
  {
   "cell_type": "code",
   "execution_count": 23,
   "id": "2f1b1ff0",
   "metadata": {
    "execution": {
     "iopub.execute_input": "2024-05-01T02:39:52.775674Z",
     "iopub.status.busy": "2024-05-01T02:39:52.775360Z",
     "iopub.status.idle": "2024-05-01T02:39:53.381885Z",
     "shell.execute_reply": "2024-05-01T02:39:53.380533Z"
    },
    "papermill": {
     "duration": 0.633854,
     "end_time": "2024-05-01T02:39:53.384218",
     "exception": false,
     "start_time": "2024-05-01T02:39:52.750364",
     "status": "completed"
    },
    "tags": []
   },
   "outputs": [
    {
     "name": "stdout",
     "output_type": "stream",
     "text": [
      "\u001b[1m1/1\u001b[0m \u001b[32m━━━━━━━━━━━━━━━━━━━━\u001b[0m\u001b[37m\u001b[0m \u001b[1m1s\u001b[0m 557ms/step\n",
      "Predicted class: 0\n",
      "True label: 0\n"
     ]
    }
   ],
   "source": [
    "test_img = x_test[10].reshape(1, 28, 28, 1)\n",
    "predictions = mnist_model.predict(test_img)\n",
    "predicted_class = np.argmax(predictions)\n",
    "true_label = y_test[10]\n",
    "print(\"Predicted class:\", predicted_class)\n",
    "print(\"True label:\", true_label)"
   ]
  },
  {
   "cell_type": "markdown",
   "id": "6137ff63",
   "metadata": {
    "papermill": {
     "duration": 0.028775,
     "end_time": "2024-05-01T02:39:53.441870",
     "exception": false,
     "start_time": "2024-05-01T02:39:53.413095",
     "status": "completed"
    },
    "tags": []
   },
   "source": [
    "Learning rate scheduler"
   ]
  },
  {
   "cell_type": "markdown",
   "id": "de7c7014",
   "metadata": {
    "papermill": {
     "duration": 0.02854,
     "end_time": "2024-05-01T02:39:53.499114",
     "exception": false,
     "start_time": "2024-05-01T02:39:53.470574",
     "status": "completed"
    },
    "tags": []
   },
   "source": [
    "https://images.app.goo.gl/A88RhJfdvtuJzwqM6"
   ]
  },
  {
   "cell_type": "code",
   "execution_count": 24,
   "id": "7e95d496",
   "metadata": {
    "execution": {
     "iopub.execute_input": "2024-05-01T02:39:53.558621Z",
     "iopub.status.busy": "2024-05-01T02:39:53.558199Z",
     "iopub.status.idle": "2024-05-01T02:39:53.565606Z",
     "shell.execute_reply": "2024-05-01T02:39:53.564703Z"
    },
    "papermill": {
     "duration": 0.039813,
     "end_time": "2024-05-01T02:39:53.567838",
     "exception": false,
     "start_time": "2024-05-01T02:39:53.528025",
     "status": "completed"
    },
    "tags": []
   },
   "outputs": [],
   "source": [
    "lr_schedule = keras.optimizers.schedules.ExponentialDecay(\n",
    "    initial_learning_rate=1e-3,\n",
    "    decay_steps=10000,\n",
    "    decay_rate=0.9)\n",
    "optimizer = keras.optimizers.RMSprop(learning_rate=lr_schedule)"
   ]
  },
  {
   "cell_type": "markdown",
   "id": "99300eaa",
   "metadata": {
    "papermill": {
     "duration": 0.028637,
     "end_time": "2024-05-01T02:39:53.625540",
     "exception": false,
     "start_time": "2024-05-01T02:39:53.596903",
     "status": "completed"
    },
    "tags": []
   },
   "source": [
    "customising learning rate"
   ]
  },
  {
   "cell_type": "code",
   "execution_count": 25,
   "id": "ed38e680",
   "metadata": {
    "execution": {
     "iopub.execute_input": "2024-05-01T02:39:53.680538Z",
     "iopub.status.busy": "2024-05-01T02:39:53.679784Z",
     "iopub.status.idle": "2024-05-01T02:39:53.685375Z",
     "shell.execute_reply": "2024-05-01T02:39:53.684001Z"
    },
    "papermill": {
     "duration": 0.035248,
     "end_time": "2024-05-01T02:39:53.687635",
     "exception": false,
     "start_time": "2024-05-01T02:39:53.652387",
     "status": "completed"
    },
    "tags": []
   },
   "outputs": [],
   "source": [
    "import tensorflow as tf\n",
    "\n",
    "def scheduler(epoch, lr):\n",
    "    if epoch < 3:\n",
    "        return lr\n",
    "    else:\n",
    "        return lr * tf.math.exp(-0.01)"
   ]
  },
  {
   "cell_type": "code",
   "execution_count": 26,
   "id": "7bfa3154",
   "metadata": {
    "execution": {
     "iopub.execute_input": "2024-05-01T02:39:53.743649Z",
     "iopub.status.busy": "2024-05-01T02:39:53.743291Z",
     "iopub.status.idle": "2024-05-01T02:39:53.897450Z",
     "shell.execute_reply": "2024-05-01T02:39:53.896466Z"
    },
    "papermill": {
     "duration": 0.183444,
     "end_time": "2024-05-01T02:39:53.899776",
     "exception": false,
     "start_time": "2024-05-01T02:39:53.716332",
     "status": "completed"
    },
    "tags": []
   },
   "outputs": [
    {
     "name": "stdout",
     "output_type": "stream",
     "text": [
      "0 0.1\n",
      "1 0.1\n",
      "2 0.1\n",
      "3 tf.Tensor(0.099004984, shape=(), dtype=float32)\n",
      "4 tf.Tensor(0.09801987, shape=(), dtype=float32)\n",
      "5 tf.Tensor(0.09704456, shape=(), dtype=float32)\n",
      "6 tf.Tensor(0.09607895, shape=(), dtype=float32)\n",
      "7 tf.Tensor(0.09512295, shape=(), dtype=float32)\n",
      "8 tf.Tensor(0.09417646, shape=(), dtype=float32)\n",
      "9 tf.Tensor(0.09323938, shape=(), dtype=float32)\n"
     ]
    }
   ],
   "source": [
    "lr = 0.1\n",
    "for i in range(10):\n",
    "    lr = scheduler(i, lr)\n",
    "    print(i, lr)"
   ]
  },
  {
   "cell_type": "code",
   "execution_count": 27,
   "id": "cb6a9459",
   "metadata": {
    "execution": {
     "iopub.execute_input": "2024-05-01T02:39:53.951544Z",
     "iopub.status.busy": "2024-05-01T02:39:53.951180Z",
     "iopub.status.idle": "2024-05-01T02:39:53.955137Z",
     "shell.execute_reply": "2024-05-01T02:39:53.954277Z"
    },
    "papermill": {
     "duration": 0.031663,
     "end_time": "2024-05-01T02:39:53.957130",
     "exception": false,
     "start_time": "2024-05-01T02:39:53.925467",
     "status": "completed"
    },
    "tags": []
   },
   "outputs": [],
   "source": [
    "# lr_schedule = keras.optimizers.schedules.ExponentialDecay(\n",
    "#     initial_learning_rate=1e-2,\n",
    "#     decay_steps=10000,\n",
    "#     decay_rate=0.9)\n",
    "# optimizer = keras.optimizers.SGD(learning_rate=lr_schedule)"
   ]
  },
  {
   "cell_type": "code",
   "execution_count": 28,
   "id": "ba3c3ef7",
   "metadata": {
    "execution": {
     "iopub.execute_input": "2024-05-01T02:39:54.008188Z",
     "iopub.status.busy": "2024-05-01T02:39:54.007785Z",
     "iopub.status.idle": "2024-05-01T02:39:54.026133Z",
     "shell.execute_reply": "2024-05-01T02:39:54.025449Z"
    },
    "papermill": {
     "duration": 0.046249,
     "end_time": "2024-05-01T02:39:54.028128",
     "exception": false,
     "start_time": "2024-05-01T02:39:53.981879",
     "status": "completed"
    },
    "tags": []
   },
   "outputs": [],
   "source": [
    "img_inputs = keras.Input(shape=(28, 28, 1), name='mnist_img')\n",
    "first_layer = layers.Conv2D(32, 3, activation='relu')(img_inputs)\n",
    "img_output = layers.GlobalMaxPooling2D()(first_layer)\n",
    "\n",
    "\n",
    "mnist_model = keras.Model(inputs=img_inputs, outputs=img_output, name=\"my_mnist_model\")"
   ]
  },
  {
   "cell_type": "code",
   "execution_count": 29,
   "id": "5befbe63",
   "metadata": {
    "execution": {
     "iopub.execute_input": "2024-05-01T02:39:54.080491Z",
     "iopub.status.busy": "2024-05-01T02:39:54.080156Z",
     "iopub.status.idle": "2024-05-01T02:39:54.097093Z",
     "shell.execute_reply": "2024-05-01T02:39:54.096292Z"
    },
    "papermill": {
     "duration": 0.045119,
     "end_time": "2024-05-01T02:39:54.099006",
     "exception": false,
     "start_time": "2024-05-01T02:39:54.053887",
     "status": "completed"
    },
    "tags": []
   },
   "outputs": [
    {
     "data": {
      "text/html": [
       "<pre style=\"white-space:pre;overflow-x:auto;line-height:normal;font-family:Menlo,'DejaVu Sans Mono',consolas,'Courier New',monospace\"><span style=\"font-weight: bold\">Model: \"my_mnist_model\"</span>\n",
       "</pre>\n"
      ],
      "text/plain": [
       "\u001b[1mModel: \"my_mnist_model\"\u001b[0m\n"
      ]
     },
     "metadata": {},
     "output_type": "display_data"
    },
    {
     "data": {
      "text/html": [
       "<pre style=\"white-space:pre;overflow-x:auto;line-height:normal;font-family:Menlo,'DejaVu Sans Mono',consolas,'Courier New',monospace\">┏━━━━━━━━━━━━━━━━━━━━━━━━━━━━━━━━━┳━━━━━━━━━━━━━━━━━━━━━━━━┳━━━━━━━━━━━━━━━┓\n",
       "┃<span style=\"font-weight: bold\"> Layer (type)                    </span>┃<span style=\"font-weight: bold\"> Output Shape           </span>┃<span style=\"font-weight: bold\">       Param # </span>┃\n",
       "┡━━━━━━━━━━━━━━━━━━━━━━━━━━━━━━━━━╇━━━━━━━━━━━━━━━━━━━━━━━━╇━━━━━━━━━━━━━━━┩\n",
       "│ mnist_img (<span style=\"color: #0087ff; text-decoration-color: #0087ff\">InputLayer</span>)          │ (<span style=\"color: #00d7ff; text-decoration-color: #00d7ff\">None</span>, <span style=\"color: #00af00; text-decoration-color: #00af00\">28</span>, <span style=\"color: #00af00; text-decoration-color: #00af00\">28</span>, <span style=\"color: #00af00; text-decoration-color: #00af00\">1</span>)      │             <span style=\"color: #00af00; text-decoration-color: #00af00\">0</span> │\n",
       "├─────────────────────────────────┼────────────────────────┼───────────────┤\n",
       "│ conv2d_6 (<span style=\"color: #0087ff; text-decoration-color: #0087ff\">Conv2D</span>)               │ (<span style=\"color: #00d7ff; text-decoration-color: #00d7ff\">None</span>, <span style=\"color: #00af00; text-decoration-color: #00af00\">26</span>, <span style=\"color: #00af00; text-decoration-color: #00af00\">26</span>, <span style=\"color: #00af00; text-decoration-color: #00af00\">32</span>)     │           <span style=\"color: #00af00; text-decoration-color: #00af00\">320</span> │\n",
       "├─────────────────────────────────┼────────────────────────┼───────────────┤\n",
       "│ global_max_pooling2d_2          │ (<span style=\"color: #00d7ff; text-decoration-color: #00d7ff\">None</span>, <span style=\"color: #00af00; text-decoration-color: #00af00\">32</span>)             │             <span style=\"color: #00af00; text-decoration-color: #00af00\">0</span> │\n",
       "│ (<span style=\"color: #0087ff; text-decoration-color: #0087ff\">GlobalMaxPooling2D</span>)            │                        │               │\n",
       "└─────────────────────────────────┴────────────────────────┴───────────────┘\n",
       "</pre>\n"
      ],
      "text/plain": [
       "┏━━━━━━━━━━━━━━━━━━━━━━━━━━━━━━━━━┳━━━━━━━━━━━━━━━━━━━━━━━━┳━━━━━━━━━━━━━━━┓\n",
       "┃\u001b[1m \u001b[0m\u001b[1mLayer (type)                   \u001b[0m\u001b[1m \u001b[0m┃\u001b[1m \u001b[0m\u001b[1mOutput Shape          \u001b[0m\u001b[1m \u001b[0m┃\u001b[1m \u001b[0m\u001b[1m      Param #\u001b[0m\u001b[1m \u001b[0m┃\n",
       "┡━━━━━━━━━━━━━━━━━━━━━━━━━━━━━━━━━╇━━━━━━━━━━━━━━━━━━━━━━━━╇━━━━━━━━━━━━━━━┩\n",
       "│ mnist_img (\u001b[38;5;33mInputLayer\u001b[0m)          │ (\u001b[38;5;45mNone\u001b[0m, \u001b[38;5;34m28\u001b[0m, \u001b[38;5;34m28\u001b[0m, \u001b[38;5;34m1\u001b[0m)      │             \u001b[38;5;34m0\u001b[0m │\n",
       "├─────────────────────────────────┼────────────────────────┼───────────────┤\n",
       "│ conv2d_6 (\u001b[38;5;33mConv2D\u001b[0m)               │ (\u001b[38;5;45mNone\u001b[0m, \u001b[38;5;34m26\u001b[0m, \u001b[38;5;34m26\u001b[0m, \u001b[38;5;34m32\u001b[0m)     │           \u001b[38;5;34m320\u001b[0m │\n",
       "├─────────────────────────────────┼────────────────────────┼───────────────┤\n",
       "│ global_max_pooling2d_2          │ (\u001b[38;5;45mNone\u001b[0m, \u001b[38;5;34m32\u001b[0m)             │             \u001b[38;5;34m0\u001b[0m │\n",
       "│ (\u001b[38;5;33mGlobalMaxPooling2D\u001b[0m)            │                        │               │\n",
       "└─────────────────────────────────┴────────────────────────┴───────────────┘\n"
      ]
     },
     "metadata": {},
     "output_type": "display_data"
    },
    {
     "data": {
      "text/html": [
       "<pre style=\"white-space:pre;overflow-x:auto;line-height:normal;font-family:Menlo,'DejaVu Sans Mono',consolas,'Courier New',monospace\"><span style=\"font-weight: bold\"> Total params: </span><span style=\"color: #00af00; text-decoration-color: #00af00\">320</span> (1.25 KB)\n",
       "</pre>\n"
      ],
      "text/plain": [
       "\u001b[1m Total params: \u001b[0m\u001b[38;5;34m320\u001b[0m (1.25 KB)\n"
      ]
     },
     "metadata": {},
     "output_type": "display_data"
    },
    {
     "data": {
      "text/html": [
       "<pre style=\"white-space:pre;overflow-x:auto;line-height:normal;font-family:Menlo,'DejaVu Sans Mono',consolas,'Courier New',monospace\"><span style=\"font-weight: bold\"> Trainable params: </span><span style=\"color: #00af00; text-decoration-color: #00af00\">320</span> (1.25 KB)\n",
       "</pre>\n"
      ],
      "text/plain": [
       "\u001b[1m Trainable params: \u001b[0m\u001b[38;5;34m320\u001b[0m (1.25 KB)\n"
      ]
     },
     "metadata": {},
     "output_type": "display_data"
    },
    {
     "data": {
      "text/html": [
       "<pre style=\"white-space:pre;overflow-x:auto;line-height:normal;font-family:Menlo,'DejaVu Sans Mono',consolas,'Courier New',monospace\"><span style=\"font-weight: bold\"> Non-trainable params: </span><span style=\"color: #00af00; text-decoration-color: #00af00\">0</span> (0.00 B)\n",
       "</pre>\n"
      ],
      "text/plain": [
       "\u001b[1m Non-trainable params: \u001b[0m\u001b[38;5;34m0\u001b[0m (0.00 B)\n"
      ]
     },
     "metadata": {},
     "output_type": "display_data"
    }
   ],
   "source": [
    "mnist_model.summary()"
   ]
  },
  {
   "cell_type": "code",
   "execution_count": 30,
   "id": "97b98f02",
   "metadata": {
    "execution": {
     "iopub.execute_input": "2024-05-01T02:39:54.157293Z",
     "iopub.status.busy": "2024-05-01T02:39:54.156904Z",
     "iopub.status.idle": "2024-05-01T02:40:12.675519Z",
     "shell.execute_reply": "2024-05-01T02:40:12.674502Z"
    },
    "papermill": {
     "duration": 18.549164,
     "end_time": "2024-05-01T02:40:12.677813",
     "exception": false,
     "start_time": "2024-05-01T02:39:54.128649",
     "status": "completed"
    },
    "tags": []
   },
   "outputs": [
    {
     "name": "stdout",
     "output_type": "stream",
     "text": [
      "Epoch 1/10\n",
      "\u001b[1m750/750\u001b[0m \u001b[32m━━━━━━━━━━━━━━━━━━━━\u001b[0m\u001b[37m\u001b[0m \u001b[1m3s\u001b[0m 3ms/step - accuracy: 0.1674 - loss: 2.2575 - val_accuracy: 0.2673 - val_loss: 2.0354\n",
      "Epoch 2/10\n",
      "\u001b[1m750/750\u001b[0m \u001b[32m━━━━━━━━━━━━━━━━━━━━\u001b[0m\u001b[37m\u001b[0m \u001b[1m1s\u001b[0m 2ms/step - accuracy: 0.2668 - loss: 2.0223 - val_accuracy: 0.3088 - val_loss: 2.0067\n",
      "Epoch 3/10\n",
      "\u001b[1m750/750\u001b[0m \u001b[32m━━━━━━━━━━━━━━━━━━━━\u001b[0m\u001b[37m\u001b[0m \u001b[1m2s\u001b[0m 2ms/step - accuracy: 0.2849 - loss: 1.9986 - val_accuracy: 0.3017 - val_loss: 1.9620\n",
      "Epoch 4/10\n",
      "\u001b[1m750/750\u001b[0m \u001b[32m━━━━━━━━━━━━━━━━━━━━\u001b[0m\u001b[37m\u001b[0m \u001b[1m2s\u001b[0m 2ms/step - accuracy: 0.2909 - loss: 1.9933 - val_accuracy: 0.3042 - val_loss: 1.9431\n",
      "Epoch 5/10\n",
      "\u001b[1m750/750\u001b[0m \u001b[32m━━━━━━━━━━━━━━━━━━━━\u001b[0m\u001b[37m\u001b[0m \u001b[1m2s\u001b[0m 2ms/step - accuracy: 0.2898 - loss: 1.9833 - val_accuracy: 0.2870 - val_loss: 2.0131\n",
      "Epoch 6/10\n",
      "\u001b[1m750/750\u001b[0m \u001b[32m━━━━━━━━━━━━━━━━━━━━\u001b[0m\u001b[37m\u001b[0m \u001b[1m1s\u001b[0m 2ms/step - accuracy: 0.2911 - loss: 1.9757 - val_accuracy: 0.2921 - val_loss: 1.9486\n",
      "Epoch 7/10\n",
      "\u001b[1m750/750\u001b[0m \u001b[32m━━━━━━━━━━━━━━━━━━━━\u001b[0m\u001b[37m\u001b[0m \u001b[1m1s\u001b[0m 2ms/step - accuracy: 0.2942 - loss: 1.9783 - val_accuracy: 0.2509 - val_loss: 2.0293\n",
      "Epoch 8/10\n",
      "\u001b[1m750/750\u001b[0m \u001b[32m━━━━━━━━━━━━━━━━━━━━\u001b[0m\u001b[37m\u001b[0m \u001b[1m2s\u001b[0m 2ms/step - accuracy: 0.2876 - loss: 1.9907 - val_accuracy: 0.2848 - val_loss: 2.0318\n",
      "Epoch 9/10\n",
      "\u001b[1m750/750\u001b[0m \u001b[32m━━━━━━━━━━━━━━━━━━━━\u001b[0m\u001b[37m\u001b[0m \u001b[1m1s\u001b[0m 2ms/step - accuracy: 0.2906 - loss: 1.9884 - val_accuracy: 0.2828 - val_loss: 1.9541\n",
      "Epoch 10/10\n",
      "\u001b[1m750/750\u001b[0m \u001b[32m━━━━━━━━━━━━━━━━━━━━\u001b[0m\u001b[37m\u001b[0m \u001b[1m1s\u001b[0m 2ms/step - accuracy: 0.2907 - loss: 1.9772 - val_accuracy: 0.2451 - val_loss: 2.0340\n",
      "313/313 - 1s - 3ms/step - accuracy: 0.2568 - loss: 2.0234\n",
      "Test loss: 2.02336049079895\n",
      "Test accuracy: 0.25679999589920044\n"
     ]
    }
   ],
   "source": [
    "(x_train, y_train), (x_test, y_test) = keras.datasets.mnist.load_data()\n",
    "\n",
    "x_train = np.expand_dims(x_train, -1).astype(\"float32\") / 255\n",
    "x_test = np.expand_dims(x_test, -1).astype(\"float32\") / 255\n",
    "\n",
    "lr=0.1\n",
    "optimizer = keras.optimizers.Adam(learning_rate=lr)\n",
    "\n",
    "mnist_model.compile(\n",
    "    loss=keras.losses.SparseCategoricalCrossentropy(from_logits=True),\n",
    "    optimizer=optimizer,\n",
    "    metrics=[\"accuracy\"],\n",
    ")\n",
    "\n",
    "lr_scheduler = keras.callbacks.LearningRateScheduler(scheduler)\n",
    "\n",
    "history = mnist_model.fit(x_train, y_train, batch_size=64, epochs=10, validation_split=0.2)\n",
    "\n",
    "\n",
    "test_scores = mnist_model.evaluate(x_test, y_test, verbose=2)\n",
    "print(\"Test loss:\", test_scores[0])\n",
    "print(\"Test accuracy:\", test_scores[1])"
   ]
  }
 ],
 "metadata": {
  "kaggle": {
   "accelerator": "nvidiaTeslaT4",
   "dataSources": [],
   "dockerImageVersionId": 30699,
   "isGpuEnabled": true,
   "isInternetEnabled": true,
   "language": "python",
   "sourceType": "notebook"
  },
  "kernelspec": {
   "display_name": "Python 3",
   "language": "python",
   "name": "python3"
  },
  "language_info": {
   "codemirror_mode": {
    "name": "ipython",
    "version": 3
   },
   "file_extension": ".py",
   "mimetype": "text/x-python",
   "name": "python",
   "nbconvert_exporter": "python",
   "pygments_lexer": "ipython3",
   "version": "3.10.13"
  },
  "papermill": {
   "default_parameters": {},
   "duration": 63.422201,
   "end_time": "2024-05-01T02:40:15.359989",
   "environment_variables": {},
   "exception": null,
   "input_path": "__notebook__.ipynb",
   "output_path": "__notebook__.ipynb",
   "parameters": {},
   "start_time": "2024-05-01T02:39:11.937788",
   "version": "2.5.0"
  }
 },
 "nbformat": 4,
 "nbformat_minor": 5
}
